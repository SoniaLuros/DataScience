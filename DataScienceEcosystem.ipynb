{
 "cells": [
  {
   "cell_type": "markdown",
   "id": "dda9e184-919b-4b31-8fcf-a922f7c1ccd2",
   "metadata": {},
   "source": [
    "# **Data Sciences Tools and Ecosystem**"
   ]
  },
  {
   "cell_type": "markdown",
   "id": "635f14c6-019d-4e14-bf0b-57231c3147cb",
   "metadata": {},
   "source": [
    "## **In this notebook, Data Science Tools and Ecosystem are summarized.**"
   ]
  },
  {
   "cell_type": "markdown",
   "id": "cf866890-d28d-46fb-9206-f905cf5ac7b1",
   "metadata": {},
   "source": [
    "### Some of the popular languages that Data Scientists use are:\n",
    "1. R\n",
    "2. Python\n",
    "3. SQL\n",
    "4. Java\n",
    "5. Julia"
   ]
  },
  {
   "cell_type": "markdown",
   "id": "4b6116a6-b43b-4a74-a0fd-5781327c12a1",
   "metadata": {},
   "source": [
    "### Some of teh commonly used libraries used by Data Scientists include:\n",
    "1. NumPy\n",
    "2. Pandas\n",
    "3. Matplotlib\n",
    "4. Scikit-Learn\n",
    "5. TensorFlow"
   ]
  },
  {
   "cell_type": "markdown",
   "id": "be323c77-f034-440e-9ad1-8bd64cdfae4d",
   "metadata": {},
   "source": [
    "### Table of Data Science Tools:\n",
    "| Data Science Tools |\n",
    "| -------------| \n",
    "|Jupyter Notebooks | \n",
    "|RStudio|\n",
    "|Git| \n",
    "|Apache Spark|"
   ]
  },
  {
   "cell_type": "markdown",
   "id": "2ac42cb8-46a7-450d-ba7b-031a1ae9cecf",
   "metadata": {},
   "source": [
    "### Below are a few examples of evaluating arithmetic expressions in Python."
   ]
  },
  {
   "cell_type": "markdown",
   "id": "1821756c-509d-444c-a100-edd7d6f1f694",
   "metadata": {},
   "source": [
    "##### This is a simple arithmetic expression to multiply then add integers."
   ]
  },
  {
   "cell_type": "code",
   "execution_count": 10,
   "id": "770ffda6-6b46-4019-98fe-ab236650b774",
   "metadata": {
    "tags": []
   },
   "outputs": [
    {
     "data": {
      "text/plain": [
       "17"
      ]
     },
     "execution_count": 10,
     "metadata": {},
     "output_type": "execute_result"
    }
   ],
   "source": [
    "(3*4)+5"
   ]
  },
  {
   "cell_type": "markdown",
   "id": "fe8e8677-631f-4e52-b7ca-55debbc3d830",
   "metadata": {},
   "source": [
    "##### This will convert 200 minutes to hours by dividing by 60."
   ]
  },
  {
   "cell_type": "code",
   "execution_count": 11,
   "id": "54cb0f5c-0423-493c-a0a0-90d143534c81",
   "metadata": {
    "tags": []
   },
   "outputs": [
    {
     "data": {
      "text/plain": [
       "3.3333333333333335"
      ]
     },
     "execution_count": 11,
     "metadata": {},
     "output_type": "execute_result"
    }
   ],
   "source": [
    "200/60"
   ]
  },
  {
   "cell_type": "markdown",
   "id": "73ed649d-a554-4cb7-9943-b456c5755485",
   "metadata": {
    "tags": []
   },
   "source": [
    "## **Objectives**\n",
    "\n",
    "#### After completing this lab, you will be able to:\n",
    "- Create a Jupyter Notebook\n",
    "- Create headings and add text in bold\n",
    "- Create Tables in Markdown\n",
    "- Create ordered and unordered lists in Markdown\n",
    "- Create a code cell"
   ]
  },
  {
   "cell_type": "markdown",
   "id": "c8ba3112-d40b-4c85-b58f-36a143bf0f16",
   "metadata": {},
   "source": [
    "## **Author**\n",
    "Sonia Cabrera"
   ]
  }
 ],
 "metadata": {
  "kernelspec": {
   "display_name": "Python 3 (ipykernel)",
   "language": "python",
   "name": "python3"
  },
  "language_info": {
   "codemirror_mode": {
    "name": "ipython",
    "version": 3
   },
   "file_extension": ".py",
   "mimetype": "text/x-python",
   "name": "python",
   "nbconvert_exporter": "python",
   "pygments_lexer": "ipython3",
   "version": "3.11.4"
  }
 },
 "nbformat": 4,
 "nbformat_minor": 5
}
